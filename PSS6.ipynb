{
 "cells": [
  {
   "cell_type": "markdown",
   "metadata": {},
   "source": [
    "# Esperienza 6"
   ]
  },
  {
   "cell_type": "code",
   "execution_count": 1,
   "metadata": {
    "collapsed": true
   },
   "outputs": [],
   "source": [
    "%run 'Base_Load.ipynb'"
   ]
  },
  {
   "cell_type": "code",
   "execution_count": 2,
   "metadata": {
    "collapsed": true
   },
   "outputs": [],
   "source": [
    "def fluke_sd(x):\n",
    "    if(isinstance(x, int)): \n",
    "        s = str(x)\n",
    "        ret = 1\n",
    "    else:\n",
    "        s = str(x)\n",
    "        for k in range(len(s)):\n",
    "            if (s[k] == '.'):\n",
    "                a = k\n",
    "        ret = 2*10**(-len(s[a+1:]))\n",
    "    sd= 0.5/100*x + ret\n",
    "    return (sd)\n",
    "\n",
    "\n",
    "def multi_fluke_sd(x): # BISOGNA DARE UNA LISTA, NON UN ARRAY\n",
    "    sd = []\n",
    "    for i in range(len(x)):\n",
    "        ret = fluke_sd(x[i])\n",
    "        sd.append(ret)\n",
    "    sd = array(sd)\n",
    "    return (sd)"
   ]
  },
  {
   "cell_type": "markdown",
   "metadata": {},
   "source": [
    "## Commutazione porte logiche TTL"
   ]
  },
  {
   "cell_type": "code",
   "execution_count": 3,
   "metadata": {},
   "outputs": [
    {
     "name": "stdout",
     "output_type": "stream",
     "text": [
      "R pullup: 997.0    sd: 5.1850000000000005\n"
     ]
    }
   ],
   "source": [
    "Rpull = 0.997e3\n",
    "sdRpull = fluke_sd(Rpull)\n",
    "print(\"R pullup:\",Rpull,\"   sd:\",sdRpull)"
   ]
  },
  {
   "cell_type": "code",
   "execution_count": null,
   "metadata": {
    "collapsed": true
   },
   "outputs": [],
   "source": []
  },
  {
   "cell_type": "markdown",
   "metadata": {},
   "source": [
    "### Ciclo 1: 0V -> 5V"
   ]
  },
  {
   "cell_type": "code",
   "execution_count": 29,
   "metadata": {},
   "outputs": [
    {
     "data": {
      "text/plain": [
       "29"
      ]
     },
     "execution_count": 29,
     "metadata": {},
     "output_type": "execute_result"
    },
    {
     "data": {
      "image/png": "[encoded data removed]",
      "text/plain": [
       "<matplotlib.figure.Figure at 0x1519fb5828>"
      ]
     },
     "metadata": {
      "image/png": {
       "height": 265,
       "width": 392
      }
     },
     "output_type": "display_data"
    }
   ],
   "source": [
    "Vi = array([12.30e-3, 33.50e-3, 53.29e-3, 71.24e-3, 116.46e-3, 149.9e-3, 174.75e-3, 198.8e-3, 215e-3, 233.7e-3, 286e-3, 0.328, 0.403, 0.54, 0.647, 0.762, 0.85, 0.903, 0.927, 1.10, 1.33, 1.53, 1.99, 2.36, 2.78, 3.24, 3.58, 3.86, 4.2 ])\n",
    "Vo = array([3.78, 3.76, 3.74, 3.722, 3.676, 3.643, 3.616, 3.593, 3.577, 3.56, 3.5, 3.46, 3.37, 3.1, 2.8, 2.32, 1.35, 0.4, 122e-3, 59.5e-3, 59.1e-3, 58.8e-3, 58.6e-3, 58.6e-3, 58.6e-3, 58.6e-3, 58.6e-3, 58.6e-3, 58.6e-3])\n",
    "\n",
    "sdVo = 0.5*Vo/100\n",
    "sdVi = 0.5*Vi/100\n",
    "\n",
    "#xscale(\"log\",basex=10)\n",
    "xlabel(\"$V_i\\,\\,\\,[V]$\")\n",
    "ylabel(\"$V_o\\,\\,\\,[V]$\") \n",
    "errorbar(Vi[:22], Vo[:22], xerr = sdVi[:22], yerr = sdVo[:22], fmt='o')\n",
    "plt.savefig(\"andamentoNANDlin.pdf\")\n",
    "len(Vo)"
   ]
  },
  {
   "cell_type": "code",
   "execution_count": 8,
   "metadata": {},
   "outputs": [
    {
     "name": "stdout",
     "output_type": "stream",
     "text": [
      "logic 1: 3.70528571429    sd: 0.0570331088948\n",
      "logic 0: 0.05876    sd: 0.000290516780927\n"
     ]
    }
   ],
   "source": [
    "i = len(Vo)-10 #start index for minimal average (0V)\n",
    "j = 7 #end index for maximum average (5V)\n",
    "\n",
    "Vup = mean(Vo[:j])\n",
    "sdVup = std(Vo[:j])\n",
    "\n",
    "Vdown = mean(Vo[i:])\n",
    "sdVdown = std(Vo[i:])\n",
    "\n",
    "print(\"logic 1:\",Vup,\"   sd:\",sdVup)\n",
    "print(\"logic 0:\",Vdown,\"   sd:\",sdVdown)"
   ]
  },
  {
   "cell_type": "code",
   "execution_count": 9,
   "metadata": {},
   "outputs": [
    {
     "name": "stdout",
     "output_type": "stream",
     "text": [
      "\\begin{tabular}{rr}\n",
      "\\hline\n",
      "   $V_{i}$ [V] &   $V_{o}$ [V] \\\\\n",
      "\\hline\n",
      "         0.012 &         3.780 \\\\\n",
      "         0.034 &         3.760 \\\\\n",
      "         0.053 &         3.740 \\\\\n",
      "         0.071 &         3.722 \\\\\n",
      "         0.116 &         3.676 \\\\\n",
      "         0.150 &         3.643 \\\\\n",
      "         0.175 &         3.616 \\\\\n",
      "         0.199 &         3.593 \\\\\n",
      "         0.215 &         3.577 \\\\\n",
      "         0.234 &         3.560 \\\\\n",
      "         0.286 &         3.500 \\\\\n",
      "         0.328 &         3.460 \\\\\n",
      "         0.403 &         3.370 \\\\\n",
      "         0.540 &         3.100 \\\\\n",
      "         0.647 &         2.800 \\\\\n",
      "         0.762 &         2.320 \\\\\n",
      "         0.850 &         1.350 \\\\\n",
      "         0.903 &         0.400 \\\\\n",
      "         0.927 &         0.122 \\\\\n",
      "         1.100 &         0.059 \\\\\n",
      "         1.330 &         0.059 \\\\\n",
      "         1.530 &         0.059 \\\\\n",
      "         1.990 &         0.059 \\\\\n",
      "         2.360 &         0.059 \\\\\n",
      "         2.780 &         0.059 \\\\\n",
      "         3.240 &         0.059 \\\\\n",
      "         3.580 &         0.059 \\\\\n",
      "         3.860 &         0.059 \\\\\n",
      "         4.200 &         0.059 \\\\\n",
      "\\hline\n",
      "\\end{tabular}\n"
     ]
    }
   ],
   "source": [
    "data = pd.DataFrame(np.column_stack([Vi,Vo]))\n",
    "print(tabulate(data, tablefmt=\"latex_raw\", showindex = False, floatfmt=(\".3f\",\".3f\"), headers=[\"$V_{i}$ [V]\", \"$V_{o}$ [V]\"]))"
   ]
  },
  {
   "cell_type": "code",
   "execution_count": null,
   "metadata": {
    "collapsed": true
   },
   "outputs": [],
   "source": []
  },
  {
   "cell_type": "markdown",
   "metadata": {},
   "source": [
    "### Isteresi"
   ]
  },
  {
   "cell_type": "code",
   "execution_count": 25,
   "metadata": {},
   "outputs": [
    {
     "data": {
      "image/png": "[encoded data removed]",
      "text/plain": [
       "<matplotlib.figure.Figure at 0x151a237ba8>"
      ]
     },
     "metadata": {
      "image/png": {
       "height": 268,
       "width": 389
      }
     },
     "output_type": "display_data"
    }
   ],
   "source": [
    "Vi = array([0.58e-3, 29.84e-3, 45.42e-3, 76.24e-3, 83e-3, 94e-3, 113.69e-3, 141e-3, 174e-3, 208.85e-3, 0.327, 0.544, 0.76,  1, 1.21, 1.51, 2.063, 1.93, 1.493, 1.275, 1.092, 0.954, 0.81, 0.76, 0.64, 0.55, 0.43, 0.32, 0.28, 0.13])\n",
    "Vo = array([3.80, 3.77, 3.75, 3.72, 3.72, 3.70, 3.69, 3.66, 3.625, 3.59, 3.47, 3.09, 2.33, 59.9e-3, 59.4e-3, 58.9e-3, 58.7e-3, 58.7e-3, 58.9e-3, 59.3e-3, 59.71e-3, 60.2e-3, 1.85, 2.29, 2.81, 3.07, 3.33, 3.467, 3.53, 3.66])\n",
    "sdVo = 0.5*Vo/100\n",
    "sdVi = 0.5*Vi/100\n",
    "\n",
    "\n",
    "Viup = array([0.58e-3, 29.84e-3, 45.42e-3, 76.24e-3, 83e-3, 94e-3, 113.69e-3, 141e-3, 174e-3, 208.85e-3, 0.327, 0.544, 0.76,  1, 1.21, 1.51, 2.063, 1.93])\n",
    "Voup = Vo[:len(Viup)]\n",
    "sdViup = sdVi[:len(Viup)]\n",
    "sdVoup = sdVo[:len(Viup)]\n",
    "\n",
    "Vidown = Vi[len(Viup)+1:]\n",
    "Vodown = Vo[len(Viup)+1:]\n",
    "sdVidown = sdVi[len(Viup)+1:]\n",
    "sdVodown = sdVo[len(Viup)+1:]\n",
    "\n",
    "\n",
    "\n",
    "xscale(\"log\",basex=10)\n",
    "xlabel(\"$V_i\\,\\,\\,[V]$\")\n",
    "ylabel(\"$V_o\\,\\,\\,[V]$\") \n",
    "errorbar(Viup, Voup, xerr = sdViup, yerr = sdVoup, fmt='o', label = \"$0\\,\\,V$ to $5\\,\\,V$\")\n",
    "errorbar(Vidown, Vodown, xerr = sdVidown, yerr = sdVodown, fmt='o', label = \"$5\\,\\,V$ to $0\\,\\,V$\")\n",
    "legend()\n",
    "plt.savefig(\"isteresi.pdf\")"
   ]
  },
  {
   "cell_type": "code",
   "execution_count": 80,
   "metadata": {},
   "outputs": [
    {
     "name": "stdout",
     "output_type": "stream",
     "text": [
      "\\begin{tabular}{rr}\n",
      "\\hline\n",
      "   $V_{i}$ [V] &   $V_{o}$ [V] \\\\\n",
      "\\hline\n",
      "         0.001 &         3.800 \\\\\n",
      "         0.030 &         3.770 \\\\\n",
      "         0.045 &         3.750 \\\\\n",
      "         0.076 &         3.720 \\\\\n",
      "         0.083 &         3.720 \\\\\n",
      "         0.094 &         3.700 \\\\\n",
      "         0.114 &         3.690 \\\\\n",
      "         0.141 &         3.660 \\\\\n",
      "         0.174 &         3.625 \\\\\n",
      "         0.209 &         3.590 \\\\\n",
      "         0.327 &         3.470 \\\\\n",
      "         0.544 &         3.090 \\\\\n",
      "         0.760 &         2.330 \\\\\n",
      "         1.000 &         0.060 \\\\\n",
      "         1.210 &         0.059 \\\\\n",
      "         1.510 &         0.059 \\\\\n",
      "         2.063 &         0.059 \\\\\n",
      "         1.930 &         0.059 \\\\\n",
      "         1.493 &         0.059 \\\\\n",
      "         1.275 &         0.059 \\\\\n",
      "         1.092 &         0.060 \\\\\n",
      "         0.954 &         0.060 \\\\\n",
      "         0.810 &         1.850 \\\\\n",
      "         0.760 &         2.290 \\\\\n",
      "         0.640 &         2.810 \\\\\n",
      "         0.550 &         3.070 \\\\\n",
      "         0.430 &         3.330 \\\\\n",
      "         0.320 &         3.467 \\\\\n",
      "\\hline\n",
      "\\end{tabular}\n"
     ]
    }
   ],
   "source": [
    "data = pd.DataFrame(np.column_stack([Vi,Vo]))\n",
    "print(tabulate(data, tablefmt=\"latex_raw\", showindex = False, floatfmt=(\".3f\",\".3f\"), headers=[\"$V_{i}$ [V]\", \"$V_{o}$ [V]\"]))"
   ]
  },
  {
   "cell_type": "code",
   "execution_count": null,
   "metadata": {
    "collapsed": true
   },
   "outputs": [],
   "source": []
  },
  {
   "cell_type": "code",
   "execution_count": null,
   "metadata": {
    "collapsed": true
   },
   "outputs": [],
   "source": []
  }
 ],
 "metadata": {
  "kernelspec": {
   "display_name": "Python 3",
   "language": "python",
   "name": "python3"
  },
  "language_info": {
   "codemirror_mode": {
    "name": "ipython",
    "version": 3
   },
   "file_extension": ".py",
   "mimetype": "text/x-python",
   "name": "python",
   "nbconvert_exporter": "python",
   "pygments_lexer": "ipython3",
   "version": "3.6.2"
  }
 },
 "nbformat": 4,
 "nbformat_minor": 2
}
